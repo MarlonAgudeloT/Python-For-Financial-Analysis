{
 "cells": [
  {
   "cell_type": "code",
   "execution_count": null,
   "id": "06d6cabf",
   "metadata": {},
   "outputs": [],
   "source": [
    "import pandas as pd\n",
    "import matplotlib.pyplot as plt\n",
    "%matplotlib inline"
   ]
  },
  {
   "cell_type": "code",
   "execution_count": null,
   "id": "1b507397",
   "metadata": {},
   "outputs": [],
   "source": [
    "fb = pd.DataFrame.from_csv('../data/facebook.csv')\n",
    "ms = pd.DataFrame.from_csv('../data/microsoft.csv')"
   ]
  },
  {
   "cell_type": "markdown",
   "id": "56145486",
   "metadata": {},
   "source": [
    "Create a new column in the DataFrame (1) - Price difference"
   ]
  },
  {
   "cell_type": "code",
   "execution_count": null,
   "id": "082620c3",
   "metadata": {},
   "outputs": [],
   "source": [
    "#Create a new column PriceDiff in the DataFrame fb\n",
    "fb['PriceDiff'] = fb['Close'].shift(-1) - fb['Close']"
   ]
  },
  {
   "cell_type": "code",
   "execution_count": null,
   "id": "1a6dacb3",
   "metadata": {},
   "outputs": [],
   "source": [
    "#Your turn to create PriceDiff in the DataFrame ms\n",
    "ms['PriceDiff'] = ms['Close'].shift(-1) - ms['Close']"
   ]
  },
  {
   "cell_type": "code",
   "execution_count": null,
   "id": "c8786bb2",
   "metadata": {},
   "outputs": [],
   "source": [
    "#Run this code to display the price difference of Microsoft on 2015-01-05\n",
    "print(ms['PriceDiff'].loc['2015-01-05'])"
   ]
  },
  {
   "cell_type": "markdown",
   "id": "fa9f7221",
   "metadata": {},
   "source": [
    "Output\n",
    "-0.68"
   ]
  },
  {
   "cell_type": "markdown",
   "id": "0116253d",
   "metadata": {},
   "source": [
    "Create a new column in the DataFrame (2) - Daily return¶\n",
    "Daily Return is calcuated as PriceDiff/Close"
   ]
  },
  {
   "cell_type": "code",
   "execution_count": null,
   "id": "103c749a",
   "metadata": {},
   "outputs": [],
   "source": [
    "#Create a new column Return in the DataFrame fb\n",
    "fb['Return'] = fb['PriceDiff'] /fb['Close']"
   ]
  },
  {
   "cell_type": "code",
   "execution_count": null,
   "id": "e2d057f7",
   "metadata": {},
   "outputs": [],
   "source": [
    "#Your turn to create a new column Return in the DataFrame MS\n",
    "ms['Return'] = ms['PriceDiff']/ms['Close']"
   ]
  },
  {
   "cell_type": "code",
   "execution_count": null,
   "id": "b6efd7c1",
   "metadata": {},
   "outputs": [],
   "source": [
    "#Run this code to print the return on 2015-01-05\n",
    "print(ms['Return'].loc['2015-01-05'])"
   ]
  },
  {
   "cell_type": "markdown",
   "id": "daff7c0d",
   "metadata": {},
   "source": [
    "Output\n",
    "-0.0146773142811"
   ]
  },
  {
   "cell_type": "markdown",
   "id": "01a2ea04",
   "metadata": {},
   "source": [
    "Create a new column in the DataFrame using List Comprehension - Direction"
   ]
  },
  {
   "cell_type": "code",
   "execution_count": null,
   "id": "d219035c",
   "metadata": {},
   "outputs": [],
   "source": [
    "#Create a new column Direction. \n",
    "#The List Comprehension means : if the price difference is larger than 0, denote as 1, otherwise, denote as 0,\n",
    "#for every record in the DataFrame - fb\n",
    "\n",
    "fb['Direction'] = [1 if fb['PriceDiff'].loc[ei] > 0 else 0 for ei in fb.index ]"
   ]
  },
  {
   "cell_type": "code",
   "execution_count": null,
   "id": "088d20ff",
   "metadata": {},
   "outputs": [],
   "source": [
    "# Your turn to create a new column Direction for MS\n",
    "\n",
    "ms['Direction'] = [1 if ms['PriceDiff'].loc[ei] > 0 else 0 for ei in ms.index]"
   ]
  },
  {
   "cell_type": "code",
   "execution_count": null,
   "id": "0218b86e",
   "metadata": {},
   "outputs": [],
   "source": [
    "# Run the following code to show the price difference on 2015-01-05\n",
    "print('Price difference on {} is {}. direction is {}'.format('2015-01-05', ms['PriceDiff'].loc['2015-01-05'], ms['Direction'].loc['2015-01-05']))"
   ]
  },
  {
   "cell_type": "markdown",
   "id": "29c669ba",
   "metadata": {},
   "source": [
    "Expected Output: Price difference on 2015-01-05 is -0.6799999999999997. direction is 0"
   ]
  },
  {
   "cell_type": "markdown",
   "id": "96d7478b",
   "metadata": {},
   "source": [
    "Create a new column in the DataFrame using Rolling Window calculation (.rolling()) - Moving average"
   ]
  },
  {
   "cell_type": "code",
   "execution_count": null,
   "id": "9b7b1538",
   "metadata": {},
   "outputs": [],
   "source": [
    "fb['ma50'] = fb['Close'].rolling(50).mean()\n",
    "\n",
    "#plot the moving average\n",
    "plt.figure(figsize=(10, 8))\n",
    "fb['ma50'].loc['2015-01-01':'2015-12-31'].plot(label='MA50')\n",
    "fb['Close'].loc['2015-01-01':'2015-12-31'].plot(label='Close')\n",
    "plt.legend()\n",
    "plt.show()"
   ]
  },
  {
   "cell_type": "markdown",
   "id": "857afa1d",
   "metadata": {},
   "source": [
    "Img"
   ]
  },
  {
   "cell_type": "code",
   "execution_count": null,
   "id": "23877aca",
   "metadata": {},
   "outputs": [],
   "source": [
    "# You can use .rolling() to calculate any numbers of days' Moving Average. This is your turn to calculate \"60 days\"\n",
    "# moving average of Microsoft, rename it as \"ma60\". And follow the codes above in plotting a graph\n",
    "\n",
    "ms['ma60'] = ms['Close'].rolling(60).mean()\n",
    "\n",
    "#plot the moving average\n",
    "plt.figure(figsize=(10, 8))\n",
    "ms['ma60'].loc['2015-01-01':'2015-12-31'].plot(label='MA60')\n",
    "ms['Close'].loc['2015-01-01':'2015-12-31'].plot(label='Close')\n",
    "plt.legend()\n",
    "plt.show()"
   ]
  },
  {
   "cell_type": "markdown",
   "id": "f08b06ab",
   "metadata": {},
   "source": [
    "Img"
   ]
  }
 ],
 "metadata": {
  "kernelspec": {
   "display_name": "Python 3 (ipykernel)",
   "language": "python",
   "name": "python3"
  },
  "language_info": {
   "codemirror_mode": {
    "name": "ipython",
    "version": 3
   },
   "file_extension": ".py",
   "mimetype": "text/x-python",
   "name": "python",
   "nbconvert_exporter": "python",
   "pygments_lexer": "ipython3",
   "version": "3.9.13"
  }
 },
 "nbformat": 4,
 "nbformat_minor": 5
}
