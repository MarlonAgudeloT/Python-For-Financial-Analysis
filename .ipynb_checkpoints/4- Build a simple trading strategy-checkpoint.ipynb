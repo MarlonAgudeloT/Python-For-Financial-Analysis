{
 "cells": [
  {
   "cell_type": "code",
   "execution_count": null,
   "id": "a5fc1dca",
   "metadata": {},
   "outputs": [],
   "source": [
    "import pandas as pd\n",
    "import matplotlib.pyplot as plt\n",
    "%matplotlib inline"
   ]
  },
  {
   "cell_type": "markdown",
   "id": "d8b5d9ee",
   "metadata": {},
   "source": [
    "1. Munging the stock data and add two columns - MA10 and MA50"
   ]
  },
  {
   "cell_type": "code",
   "execution_count": null,
   "id": "7160694a",
   "metadata": {},
   "outputs": [],
   "source": [
    "#import FB's stock data, add two columns - MA10 and MA50\n",
    "#use dropna to remove any \"Not a Number\" data\n",
    "fb = pd.DataFrame.from_csv('../data/facebook.csv')\n",
    "fb['MA10'] = fb['Close'].rolling(10).mean()\n",
    "fb['MA50'] = fb['Close'].rolling(50).mean()\n",
    "fb = fb.dropna()\n",
    "fb.head()"
   ]
  },
  {
   "cell_type": "markdown",
   "id": "4c52054d",
   "metadata": {},
   "source": [
    "Open\tHigh\tLow\tClose\tAdj Close\tVolume\tMA10\tMA50\n",
    "Date\t\t\t\t\t\t\t\t\n",
    "2015-03-13\t22.559999\t22.760000\t22.250000\t22.700001\t22.116024\t8982200\t22.648\t21.0174\n",
    "2015-03-16\t22.879999\t23.110001\t22.730000\t22.969999\t22.379078\t5923900\t22.685\t21.0758\n",
    "2015-03-17\t22.920000\t23.260000\t22.760000\t23.250000\t22.651876\t7497500\t22.792\t21.1382\n",
    "2015-03-18\t23.250000\t23.370001\t22.660000\t22.870001\t22.281652\t10337600\t22.836\t21.1998\n",
    "2015-03-19\t22.950001\t23.299999\t22.780001\t23.219999\t22.622650\t7768900\t22.872\t21.2804"
   ]
  },
  {
   "cell_type": "markdown",
   "id": "15647dfc",
   "metadata": {},
   "source": [
    "2. Add \"Shares\" column to make decisions base on the strategy"
   ]
  },
  {
   "cell_type": "code",
   "execution_count": null,
   "id": "fc9643f3",
   "metadata": {},
   "outputs": [],
   "source": [
    "#Add a new column \"Shares\", if MA10>MA50, denote as 1 (long one share of stock), otherwise, denote as 0 (do nothing)\n",
    "\n",
    "fb['Shares'] = [1 if fb.loc[ei, 'MA10']>fb.loc[ei, 'MA50'] else 0 for ei in fb.index]"
   ]
  },
  {
   "cell_type": "code",
   "execution_count": null,
   "id": "67a6a96f",
   "metadata": {},
   "outputs": [],
   "source": [
    "#Add a new column \"Profit\" using List Comprehension, for any rows in fb, if Shares=1, the profit is calculated as the close price of \n",
    "#tomorrow - the close price of today. Otherwise the profit is 0.\n",
    "\n",
    "#Plot a graph to show the Profit/Loss\n",
    "\n",
    "fb['Close1'] = fb['Close'].shift(-1)\n",
    "fb['Profit'] = [fb.loc[ei, 'Close1'] - fb.loc[ei, 'Close'] if fb.loc[ei, 'Shares']==1 else 0 for ei in fb.index]\n",
    "fb['Profit'].plot()\n",
    "plt.axhline(y=0, color='red')"
   ]
  },
  {
   "cell_type": "markdown",
   "id": "6140d288",
   "metadata": {},
   "source": [
    "Img Returns"
   ]
  },
  {
   "cell_type": "markdown",
   "id": "886be0a2",
   "metadata": {},
   "source": [
    "3. Use .cumsum() to display our model's performance if we follow the strategy"
   ]
  },
  {
   "cell_type": "code",
   "execution_count": null,
   "id": "b87cc26c",
   "metadata": {},
   "outputs": [],
   "source": [
    "#Use .cumsum() to calculate the accumulated wealth over the period\n",
    "\n",
    "fb['wealth'] = fb['Profit'].cumsum()\n",
    "fb.tail()"
   ]
  },
  {
   "cell_type": "markdown",
   "id": "2418a3cb",
   "metadata": {},
   "source": [
    "\tOpen\tHigh\tLow\tClose\tAdj Close\tVolume\tMA10\tMA50\tShares\tClose1\tProfit\twealth\n",
    "Date\t\t\t\t\t\t\t\t\t\t\t\t\n",
    "2018-01-30\t241.110001\t246.419998\t238.410004\t242.720001\t242.720001\t14270800\t235.692003\t210.030001\t1\t245.800003\t3.080002\t177.820011\n",
    "2018-01-31\t245.770004\t249.270004\t244.449997\t245.800003\t245.800003\t11964400\t237.800003\t210.713801\t1\t240.500000\t-5.300003\t172.520008\n",
    "2018-02-01\t238.520004\t246.899994\t238.059998\t240.500000\t240.500000\t12980600\t239.406003\t211.296601\t1\t233.520004\t-6.979996\t165.540012\n",
    "2018-02-02\t237.000000\t237.970001\t231.169998\t233.520004\t233.520004\t17961600\t239.747003\t211.685401\t1\t213.699997\t-19.820007\t145.720005\n",
    "2018-02-05\t227.000000\t233.229996\t205.000000\t213.699997\t213.699997\t28869000\t237.748003\t211.638401\t1\tNaN\tNaN\tNaN"
   ]
  },
  {
   "cell_type": "code",
   "execution_count": null,
   "id": "0e4a13a2",
   "metadata": {},
   "outputs": [],
   "source": [
    "#plot the wealth to show the growth of profit over the period\n",
    "\n",
    "fb['wealth'].plot()\n",
    "plt.title('Total money you win is {}'.format(fb.loc[fb.index[-2], 'wealth']))"
   ]
  },
  {
   "cell_type": "code",
   "execution_count": null,
   "id": "1c654f4b",
   "metadata": {},
   "outputs": [],
   "source": [
    "Img Returns Graph"
   ]
  }
 ],
 "metadata": {
  "kernelspec": {
   "display_name": "Python 3 (ipykernel)",
   "language": "python",
   "name": "python3"
  },
  "language_info": {
   "codemirror_mode": {
    "name": "ipython",
    "version": 3
   },
   "file_extension": ".py",
   "mimetype": "text/x-python",
   "name": "python",
   "nbconvert_exporter": "python",
   "pygments_lexer": "ipython3",
   "version": "3.9.13"
  }
 },
 "nbformat": 4,
 "nbformat_minor": 5
}
