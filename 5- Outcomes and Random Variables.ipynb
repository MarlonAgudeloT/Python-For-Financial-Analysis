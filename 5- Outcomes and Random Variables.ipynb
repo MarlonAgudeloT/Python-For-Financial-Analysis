{
 "cells": [
  {
   "cell_type": "code",
   "execution_count": 2,
   "id": "6a24a0a2",
   "metadata": {},
   "outputs": [],
   "source": [
    "#import numpy and pandas package\n",
    "import numpy as np\n",
    "import pandas as pd"
   ]
  },
  {
   "cell_type": "raw",
   "id": "89978bfa",
   "metadata": {},
   "source": [
    "Mimic the roll dice game"
   ]
  },
  {
   "cell_type": "code",
   "execution_count": 4,
   "id": "956b78fc",
   "metadata": {},
   "outputs": [
    {
     "name": "stdout",
     "output_type": "stream",
     "text": [
      "Sum of dice is 8\n"
     ]
    }
   ],
   "source": [
    "# roll two dice for multiple times\n",
    "die = pd.DataFrame([1, 2, 3, 4, 5, 6])\n",
    "sum_of_dice = die.sample(2, replace=True).sum().loc[0]\n",
    "print('Sum of dice is', sum_of_dice)"
   ]
  },
  {
   "cell_type": "markdown",
   "id": "68220dae",
   "metadata": {},
   "source": [
    "# you may get different outcomes as we now mimic the result of rolling 2 dice, but the range must be limited between 2 and 12. \n",
    "Sum of dice is 6\n",
    "# It is your turn! let's replace the none with the code of rolling three dice, instead of two"
   ]
  },
  {
   "cell_type": "code",
   "execution_count": 6,
   "id": "886fa4a3",
   "metadata": {},
   "outputs": [],
   "source": [
    "np.random.seed(1)  # This is for checking answer, do NOT modify this line of code"
   ]
  },
  {
   "cell_type": "code",
   "execution_count": 7,
   "id": "67c824e9",
   "metadata": {},
   "outputs": [
    {
     "name": "stdout",
     "output_type": "stream",
     "text": [
      "Sum of three dice is 15\n"
     ]
    }
   ],
   "source": [
    "#Modify the code, replace the None\n",
    "sum_of_three_dice = die.sample(3,replace=True).sum().loc[0]\n",
    "print('Sum of three dice is', sum_of_three_dice)\n",
    "#Sum of three dice is  15"
   ]
  },
  {
   "cell_type": "markdown",
   "id": "1917db8a",
   "metadata": {},
   "source": [
    "Expected output: Sum of three dice is 15\n",
    "Mimic the roll dice game for multiple times"
   ]
  },
  {
   "cell_type": "code",
   "execution_count": 8,
   "id": "6a294b2a",
   "metadata": {},
   "outputs": [
    {
     "name": "stdout",
     "output_type": "stream",
     "text": [
      "[3, 10, 2, 7, 11, 5, 11, 8, 9, 8]\n"
     ]
    },
    {
     "data": {
      "text/plain": [
       "[3, 10, 2, 7, 11, 5, 11, 8, 9, 8]"
      ]
     },
     "execution_count": 8,
     "metadata": {},
     "output_type": "execute_result"
    }
   ],
   "source": [
    "# The following code mimics the roll dice game for 50 times. And the results are all stored into \"Result\"\n",
    "# Lets try and get the results of 50 sum of faces.\n",
    "\n",
    "trial = 50\n",
    "result = [die.sample(2, replace=True).sum().loc[0] for i in range(trial)]\n",
    "#print the first 10 results\n",
    "print(result[:10])\n",
    "[3, 10, 2, 7, 11, 5, 11, 8, 9, 8]"
   ]
  },
  {
   "cell_type": "code",
   "execution_count": null,
   "id": "cc1387d5",
   "metadata": {},
   "outputs": [],
   "source": []
  }
 ],
 "metadata": {
  "kernelspec": {
   "display_name": "Python 3 (ipykernel)",
   "language": "python",
   "name": "python3"
  },
  "language_info": {
   "codemirror_mode": {
    "name": "ipython",
    "version": 3
   },
   "file_extension": ".py",
   "mimetype": "text/x-python",
   "name": "python",
   "nbconvert_exporter": "python",
   "pygments_lexer": "ipython3",
   "version": "3.9.13"
  }
 },
 "nbformat": 4,
 "nbformat_minor": 5
}
